{
 "cells": [
  {
   "cell_type": "code",
   "execution_count": 1,
   "id": "82596346",
   "metadata": {},
   "outputs": [],
   "source": [
    "import pandas as pd"
   ]
  },
  {
   "cell_type": "code",
   "execution_count": 2,
   "id": "8beaf4b1",
   "metadata": {},
   "outputs": [
    {
     "data": {
      "text/html": [
       "<div>\n",
       "<style scoped>\n",
       "    .dataframe tbody tr th:only-of-type {\n",
       "        vertical-align: middle;\n",
       "    }\n",
       "\n",
       "    .dataframe tbody tr th {\n",
       "        vertical-align: top;\n",
       "    }\n",
       "\n",
       "    .dataframe thead th {\n",
       "        text-align: right;\n",
       "    }\n",
       "</style>\n",
       "<table border=\"1\" class=\"dataframe\">\n",
       "  <thead>\n",
       "    <tr style=\"text-align: right;\">\n",
       "      <th></th>\n",
       "      <th>Theme</th>\n",
       "      <th>Click Through Rate</th>\n",
       "      <th>Conversion Rate</th>\n",
       "      <th>Bounce Rate</th>\n",
       "      <th>Scroll_Depth</th>\n",
       "      <th>Age</th>\n",
       "      <th>Location</th>\n",
       "      <th>Session_Duration</th>\n",
       "      <th>Purchases</th>\n",
       "      <th>Added_to_Cart</th>\n",
       "    </tr>\n",
       "  </thead>\n",
       "  <tbody>\n",
       "    <tr>\n",
       "      <th>0</th>\n",
       "      <td>Light Theme</td>\n",
       "      <td>0.054920</td>\n",
       "      <td>0.282367</td>\n",
       "      <td>0.405085</td>\n",
       "      <td>72.489458</td>\n",
       "      <td>25</td>\n",
       "      <td>Chennai</td>\n",
       "      <td>1535</td>\n",
       "      <td>No</td>\n",
       "      <td>Yes</td>\n",
       "    </tr>\n",
       "    <tr>\n",
       "      <th>1</th>\n",
       "      <td>Light Theme</td>\n",
       "      <td>0.113932</td>\n",
       "      <td>0.032973</td>\n",
       "      <td>0.732759</td>\n",
       "      <td>61.858568</td>\n",
       "      <td>19</td>\n",
       "      <td>Pune</td>\n",
       "      <td>303</td>\n",
       "      <td>No</td>\n",
       "      <td>Yes</td>\n",
       "    </tr>\n",
       "    <tr>\n",
       "      <th>2</th>\n",
       "      <td>Dark Theme</td>\n",
       "      <td>0.323352</td>\n",
       "      <td>0.178763</td>\n",
       "      <td>0.296543</td>\n",
       "      <td>45.737376</td>\n",
       "      <td>47</td>\n",
       "      <td>Chennai</td>\n",
       "      <td>563</td>\n",
       "      <td>Yes</td>\n",
       "      <td>Yes</td>\n",
       "    </tr>\n",
       "    <tr>\n",
       "      <th>3</th>\n",
       "      <td>Light Theme</td>\n",
       "      <td>0.485836</td>\n",
       "      <td>0.325225</td>\n",
       "      <td>0.245001</td>\n",
       "      <td>76.305298</td>\n",
       "      <td>58</td>\n",
       "      <td>Pune</td>\n",
       "      <td>385</td>\n",
       "      <td>Yes</td>\n",
       "      <td>No</td>\n",
       "    </tr>\n",
       "    <tr>\n",
       "      <th>4</th>\n",
       "      <td>Light Theme</td>\n",
       "      <td>0.034783</td>\n",
       "      <td>0.196766</td>\n",
       "      <td>0.765100</td>\n",
       "      <td>48.927407</td>\n",
       "      <td>25</td>\n",
       "      <td>New Delhi</td>\n",
       "      <td>1437</td>\n",
       "      <td>No</td>\n",
       "      <td>No</td>\n",
       "    </tr>\n",
       "  </tbody>\n",
       "</table>\n",
       "</div>"
      ],
      "text/plain": [
       "         Theme  Click Through Rate  Conversion Rate  Bounce Rate  \\\n",
       "0  Light Theme            0.054920         0.282367     0.405085   \n",
       "1  Light Theme            0.113932         0.032973     0.732759   \n",
       "2   Dark Theme            0.323352         0.178763     0.296543   \n",
       "3  Light Theme            0.485836         0.325225     0.245001   \n",
       "4  Light Theme            0.034783         0.196766     0.765100   \n",
       "\n",
       "   Scroll_Depth  Age   Location  Session_Duration Purchases Added_to_Cart  \n",
       "0     72.489458   25    Chennai              1535        No           Yes  \n",
       "1     61.858568   19       Pune               303        No           Yes  \n",
       "2     45.737376   47    Chennai               563       Yes           Yes  \n",
       "3     76.305298   58       Pune               385       Yes            No  \n",
       "4     48.927407   25  New Delhi              1437        No            No  "
      ]
     },
     "execution_count": 2,
     "metadata": {},
     "output_type": "execute_result"
    }
   ],
   "source": [
    "df=pd.read_csv(\"E:\\Python Projects\\Hypothesis Testing\\data.csv\")\n",
    "df.head()"
   ]
  },
  {
   "cell_type": "code",
   "execution_count": 5,
   "id": "e9c77a6e",
   "metadata": {},
   "outputs": [
    {
     "data": {
      "text/plain": [
       "{'Number of Records': 1000,\n",
       " 'Number of Columns': 10,\n",
       " 'Null Values': Theme                 0\n",
       " Click Through Rate    0\n",
       " Conversion Rate       0\n",
       " Bounce Rate           0\n",
       " Scroll_Depth          0\n",
       " Age                   0\n",
       " Location              0\n",
       " Session_Duration      0\n",
       " Purchases             0\n",
       " Added_to_Cart         0\n",
       " dtype: int64,\n",
       " 'defination of data':        Click Through Rate  Conversion Rate  Bounce Rate  Scroll_Depth  \\\n",
       " count         1000.000000      1000.000000  1000.000000   1000.000000   \n",
       " mean             0.256048         0.253312     0.505758     50.319494   \n",
       " std              0.139265         0.139092     0.172195     16.895269   \n",
       " min              0.010767         0.010881     0.200720     20.011738   \n",
       " 25%              0.140794         0.131564     0.353609     35.655167   \n",
       " 50%              0.253715         0.252823     0.514049     51.130712   \n",
       " 75%              0.370674         0.373040     0.648557     64.666258   \n",
       " max              0.499989         0.498916     0.799658     79.997108   \n",
       " \n",
       "                Age  Session_Duration  \n",
       " count  1000.000000       1000.000000  \n",
       " mean     41.528000        924.999000  \n",
       " std      14.114334        508.231723  \n",
       " min      18.000000         38.000000  \n",
       " 25%      29.000000        466.500000  \n",
       " 50%      42.000000        931.000000  \n",
       " 75%      54.000000       1375.250000  \n",
       " max      65.000000       1797.000000  }"
      ]
     },
     "execution_count": 5,
     "metadata": {},
     "output_type": "execute_result"
    }
   ],
   "source": [
    "#dataset summary\n",
    "summary={\"Number of Records\":df.shape[0],\n",
    "        \"Number of Columns\": df.shape[1],\n",
    "        \"Null Values\": df.isnull().sum(),\n",
    "        \"defination of data\" :df.describe()}\n",
    "summary"
   ]
  },
  {
   "cell_type": "code",
   "execution_count": 13,
   "id": "e3e31d59",
   "metadata": {},
   "outputs": [
    {
     "name": "stdout",
     "output_type": "stream",
     "text": [
      "             Click Through Rate  Conversion Rate  Bounce Rate  Scroll_Depth  \\\n",
      "Theme                                                                         \n",
      "Light Theme            0.247109         0.255459     0.499035     50.735232   \n",
      "Dark Theme             0.264501         0.251282     0.512115     49.926404   \n",
      "\n",
      "                   Age  Session_Duration  \n",
      "Theme                                     \n",
      "Light Theme  41.734568        930.833333  \n",
      "Dark Theme   41.332685        919.482490  \n"
     ]
    }
   ],
   "source": [
    "# grouping data by theme and calculating mean values for the metrics\n",
    "theme_performance = df.groupby('Theme').mean(numeric_only=True)\n",
    "\n",
    "# sorting the data by conversion rate for a better comparison\n",
    "theme_performance_sorted = theme_performance.sort_values(by='Conversion Rate', ascending=False)\n",
    "\n",
    "print(theme_performance_sorted)"
   ]
  },
  {
   "cell_type": "markdown",
   "id": "68725f61",
   "metadata": {},
   "source": [
    "Click Through Rate (CTR): The Dark Theme has a slightly higher average CTR (0.2645) compared to the Light Theme (0.2471)."
   ]
  },
  {
   "cell_type": "markdown",
   "id": "12abdbe6",
   "metadata": {},
   "source": [
    "Conversion Rate: The Light Theme leads with a marginally higher average Conversion Rate (0.2555) compared to the Dark Theme (0.2513)."
   ]
  },
  {
   "cell_type": "markdown",
   "id": "11971264",
   "metadata": {},
   "source": [
    "Bounce Rate: The Bounce Rate is slightly higher for the Dark Theme (0.5121) than for the Light Theme (0.4990)."
   ]
  },
  {
   "cell_type": "markdown",
   "id": "f16ab635",
   "metadata": {},
   "source": [
    "Scroll Depth: Users on the Light Theme scroll slightly further on average (50.74%) compared to those on the Dark Theme (49.93%)."
   ]
  },
  {
   "cell_type": "markdown",
   "id": "52706365",
   "metadata": {},
   "source": [
    "Age: The average age of users is similar across themes, with the Light Theme at approximately 41.73 years and the Dark Theme at 41.33 years."
   ]
  },
  {
   "cell_type": "markdown",
   "id": "9d6e7730",
   "metadata": {},
   "source": [
    "Session Duration: The average session duration is slightly longer for users on the Light Theme (930.83 seconds) than for those on the Dark Theme (919.48 seconds)."
   ]
  },
  {
   "cell_type": "markdown",
   "id": "466ca90a",
   "metadata": {},
   "source": [
    "From these insights, it appears that the Light Theme slightly outperforms the Dark Theme in terms of Conversion Rate, Bounce Rate, Scroll Depth, and Session Duration, while the Dark Theme leads in Click Through Rate. However, the differences are relatively minor across all metrics."
   ]
  },
  {
   "cell_type": "markdown",
   "id": "b1908ffb",
   "metadata": {},
   "source": [
    "# Getting Started with Hypothesis Testing"
   ]
  },
  {
   "cell_type": "markdown",
   "id": "eaaab8c8",
   "metadata": {},
   "source": [
    "alpha value =  0.05 = It means we’ll consider a result statistically significant if the p-value from our test is less than 0.05"
   ]
  },
  {
   "cell_type": "markdown",
   "id": "b6607bc9",
   "metadata": {},
   "source": [
    "Let’s start with hypothesis testing based on the Conversion Rate between the Light Theme and Dark Theme"
   ]
  },
  {
   "cell_type": "markdown",
   "id": "77cc7bfb",
   "metadata": {},
   "source": [
    "Null Hypothesis (H0​): There is no difference in Conversion Rates between the Light Theme and Dark Theme.\n"
   ]
  },
  {
   "cell_type": "markdown",
   "id": "13435552",
   "metadata": {},
   "source": [
    "Alternative Hypothesis (Ha​): There is a difference in Conversion Rates between the Light Theme and Dark Theme."
   ]
  },
  {
   "cell_type": "markdown",
   "id": "67830c53",
   "metadata": {},
   "source": [
    "# hypothesis testing based on the Conversion Rate (CTR)"
   ]
  },
  {
   "cell_type": "code",
   "execution_count": 16,
   "id": "eda5ec85",
   "metadata": {},
   "outputs": [],
   "source": [
    "# extracting conversion rates for both themes\n",
    "conversion_rates_light=df[df[\"Theme\"]==\"Light Theme\"][\"Conversion Rate\"]\n",
    "conversion_rates_dark = df[df[\"Theme\"]==\"Dark Theme\"][\"Conversion Rate\"]"
   ]
  },
  {
   "cell_type": "code",
   "execution_count": 23,
   "id": "444c765b",
   "metadata": {},
   "outputs": [
    {
     "data": {
      "text/plain": [
       "(0.4748494462782632, 0.6349982678451778)"
      ]
     },
     "execution_count": 23,
     "metadata": {},
     "output_type": "execute_result"
    }
   ],
   "source": [
    "# performing a two-sample t-test\n",
    "from scipy.stats import ttest_ind\n",
    "\n",
    "t_stat, p_value = ttest_ind(conversion_rates_light, conversion_rates_dark, equal_var=False)\n",
    "\n",
    "t_stat, p_value"
   ]
  },
  {
   "cell_type": "markdown",
   "id": "fd925a0d",
   "metadata": {},
   "source": [
    "The result of the two-sample t-test gives a p-value of approximately 0.635. Since this p-value is much greater than our significance level of 0.05, we do not have enough evidence to reject the null hypothesis. Therefore, we conclude that there is no statistically significant difference in Conversion Rates between the Light Theme and Dark Theme based on the data provided."
   ]
  },
  {
   "cell_type": "code",
   "execution_count": null,
   "id": "8961d565",
   "metadata": {},
   "outputs": [],
   "source": []
  },
  {
   "cell_type": "markdown",
   "id": "fd7a8be5",
   "metadata": {},
   "source": [
    "# hypothesis testing based on the Click Through Rate (CTR)"
   ]
  },
  {
   "cell_type": "markdown",
   "id": "66897a26",
   "metadata": {},
   "source": [
    "Null Hypothesis (H0​): There is no difference in Click Through Rates between the Light Theme and Dark Theme."
   ]
  },
  {
   "cell_type": "markdown",
   "id": "93026598",
   "metadata": {},
   "source": [
    "Alternative Hypothesis (Ha​): There is a difference in Click Rates between the Light Theme and Dark Theme."
   ]
  },
  {
   "cell_type": "code",
   "execution_count": 20,
   "id": "80688e22",
   "metadata": {},
   "outputs": [],
   "source": [
    "ctr_light = df[df[\"Theme\"]==\"Light Theme\"][\"Click Through Rate\"]\n",
    "ctr_dark = df[df[\"Theme\"]==\"Dark Theme\"][\"Click Through Rate\"]"
   ]
  },
  {
   "cell_type": "code",
   "execution_count": 22,
   "id": "c310d5c2",
   "metadata": {},
   "outputs": [
    {
     "data": {
      "text/plain": [
       "(-1.9781708664172253, 0.04818435371010704)"
      ]
     },
     "execution_count": 22,
     "metadata": {},
     "output_type": "execute_result"
    }
   ],
   "source": [
    "t_stat_ctr, p_value_ctr = ttest_ind(ctr_light,ctr_dark,equal_var= False)\n",
    "t_stat_ctr, p_value_ctr"
   ]
  },
  {
   "cell_type": "markdown",
   "id": "b65b8767",
   "metadata": {},
   "source": [
    "The two-sample t-test for the Click Through Rate (CTR) between the Light Theme and Dark Theme yields a p-value of approximately 0.048. This p-value is slightly below our significance level of 0.05, indicating that there is a statistically significant difference in Click Through Rates between the Light Theme and Dark Theme, with the Dark Theme likely having a higher CTR given the direction of the test statistic.\n",
    "\n"
   ]
  },
  {
   "cell_type": "code",
   "execution_count": null,
   "id": "42c91f4d",
   "metadata": {},
   "outputs": [],
   "source": []
  },
  {
   "cell_type": "markdown",
   "id": "e32d4d5f",
   "metadata": {},
   "source": [
    "# Hypothesis Testing based on two other metrics: bounce rate and scroll depth"
   ]
  },
  {
   "cell_type": "code",
   "execution_count": 25,
   "id": "0b64353e",
   "metadata": {},
   "outputs": [],
   "source": [
    "# extracting bounce rates for both themes\n",
    "bounce_rates_light = df[df[\"Theme\"]==\"Light Theme\"][\"Bounce Rate\"]\n",
    "bounce_rates_dark = df[df[\"Theme\"]==\"Dark Theme\"][\"Bounce Rate\"]"
   ]
  },
  {
   "cell_type": "code",
   "execution_count": 27,
   "id": "3773cea5",
   "metadata": {},
   "outputs": [
    {
     "data": {
      "text/plain": [
       "(-1.2018883310494073, 0.229692077505148)"
      ]
     },
     "execution_count": 27,
     "metadata": {},
     "output_type": "execute_result"
    }
   ],
   "source": [
    "# performing a two-sample t-test for bounce rate\n",
    "t_stat_bounce,p_value_bounce = ttest_ind(bounce_rates_light,bounce_rates_dark,equal_var = False)\n",
    "t_stat_bounce,p_value_bounce"
   ]
  },
  {
   "cell_type": "code",
   "execution_count": 29,
   "id": "4b914845",
   "metadata": {},
   "outputs": [],
   "source": [
    "# extracting scroll depths for both themes\n",
    "scroll_depth_light = df[df[\"Theme\"]==\"Light Theme\"][\"Scroll_Depth\"]\n",
    "scroll_depth_dark = df[df[\"Theme\"]==\"Dark Theme\"][\"Scroll_Depth\"]"
   ]
  },
  {
   "cell_type": "code",
   "execution_count": 30,
   "id": "10f85097",
   "metadata": {},
   "outputs": [
    {
     "data": {
      "text/plain": [
       "(0.7562277864140986, 0.4496919249484911)"
      ]
     },
     "execution_count": 30,
     "metadata": {},
     "output_type": "execute_result"
    }
   ],
   "source": [
    "# performing a two-sample t-test for scroll depth\n",
    "t_stat_scroll, p_value_scroll = ttest_ind(scroll_depth_light, scroll_depth_dark, equal_var=False)\n",
    "t_stat_scroll, p_value_scroll"
   ]
  },
  {
   "cell_type": "code",
   "execution_count": 31,
   "id": "96f29a9f",
   "metadata": {},
   "outputs": [
    {
     "data": {
      "text/html": [
       "<div>\n",
       "<style scoped>\n",
       "    .dataframe tbody tr th:only-of-type {\n",
       "        vertical-align: middle;\n",
       "    }\n",
       "\n",
       "    .dataframe tbody tr th {\n",
       "        vertical-align: top;\n",
       "    }\n",
       "\n",
       "    .dataframe thead th {\n",
       "        text-align: right;\n",
       "    }\n",
       "</style>\n",
       "<table border=\"1\" class=\"dataframe\">\n",
       "  <thead>\n",
       "    <tr style=\"text-align: right;\">\n",
       "      <th></th>\n",
       "      <th>Metric</th>\n",
       "      <th>T-Statistic</th>\n",
       "      <th>P-Value</th>\n",
       "    </tr>\n",
       "  </thead>\n",
       "  <tbody>\n",
       "    <tr>\n",
       "      <th>0</th>\n",
       "      <td>Click Through Rate</td>\n",
       "      <td>-1.978171</td>\n",
       "      <td>0.048184</td>\n",
       "    </tr>\n",
       "    <tr>\n",
       "      <th>1</th>\n",
       "      <td>Conversion Rate</td>\n",
       "      <td>0.474849</td>\n",
       "      <td>0.634998</td>\n",
       "    </tr>\n",
       "    <tr>\n",
       "      <th>2</th>\n",
       "      <td>Bounce Rate</td>\n",
       "      <td>-1.201888</td>\n",
       "      <td>0.229692</td>\n",
       "    </tr>\n",
       "    <tr>\n",
       "      <th>3</th>\n",
       "      <td>Scroll Depth</td>\n",
       "      <td>0.756228</td>\n",
       "      <td>0.449692</td>\n",
       "    </tr>\n",
       "  </tbody>\n",
       "</table>\n",
       "</div>"
      ],
      "text/plain": [
       "               Metric  T-Statistic   P-Value\n",
       "0  Click Through Rate    -1.978171  0.048184\n",
       "1     Conversion Rate     0.474849  0.634998\n",
       "2         Bounce Rate    -1.201888  0.229692\n",
       "3        Scroll Depth     0.756228  0.449692"
      ]
     },
     "execution_count": 31,
     "metadata": {},
     "output_type": "execute_result"
    }
   ],
   "source": [
    "# creating a table for comparison\n",
    "comparison_table = pd.DataFrame({\n",
    "    'Metric': ['Click Through Rate', 'Conversion Rate', 'Bounce Rate', 'Scroll Depth'],\n",
    "    'T-Statistic': [t_stat_ctr, t_stat, t_stat_bounce, t_stat_scroll],\n",
    "    'P-Value': [p_value_ctr, p_value, p_value_bounce, p_value_scroll]\n",
    "})\n",
    "\n",
    "comparison_table"
   ]
  },
  {
   "cell_type": "markdown",
   "id": "0cbbdf6f",
   "metadata": {},
   "source": [
    "In summary, while the two themes perform similarly across most metrics, the Dark Theme has a slight edge in terms of engaging users to Click Through Rate. For other key performance indicators like Conversion Rate, Bounce Rate, and Scroll Depth, the choice between a Light Theme and a Dark Theme does not significantly affect user behaviour according to the data provided."
   ]
  }
 ],
 "metadata": {
  "kernelspec": {
   "display_name": "Python 3 (ipykernel)",
   "language": "python",
   "name": "python3"
  },
  "language_info": {
   "codemirror_mode": {
    "name": "ipython",
    "version": 3
   },
   "file_extension": ".py",
   "mimetype": "text/x-python",
   "name": "python",
   "nbconvert_exporter": "python",
   "pygments_lexer": "ipython3",
   "version": "3.11.5"
  }
 },
 "nbformat": 4,
 "nbformat_minor": 5
}
